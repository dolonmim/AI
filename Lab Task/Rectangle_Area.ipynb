{
  "nbformat": 4,
  "nbformat_minor": 0,
  "metadata": {
    "colab": {
      "provenance": []
    },
    "kernelspec": {
      "name": "python3",
      "display_name": "Python 3"
    },
    "language_info": {
      "name": "python"
    }
  },
  "cells": [
    {
      "cell_type": "code",
      "execution_count": null,
      "metadata": {
        "colab": {
          "base_uri": "https://localhost:8080/"
        },
        "id": "K6xlHzcc9I5z",
        "outputId": "d0b74eb0-a4f5-42a6-d861-16c826cfebe8"
      },
      "outputs": [
        {
          "output_type": "stream",
          "name": "stdout",
          "text": [
            "Enter length of rectangle: 10\n",
            "Enter breadth of rectangle: 20\n",
            "Area of rectangle: 200\n"
          ]
        }
      ],
      "source": [
        "class rectangle():\n",
        "    def __init__(self,length,breadth):\n",
        "        self.length=length\n",
        "        self.breadth=breadth\n",
        "    def area(self):\n",
        "        return self.length*self.breadth\n",
        "l=int(input(\"Enter length of rectangle: \"))\n",
        "b=int(input(\"Enter breadth of rectangle: \"))\n",
        "obj=rectangle(l,b)\n",
        "print(\"Area of rectangle:\",obj.area())"
      ]
    }
  ]
}