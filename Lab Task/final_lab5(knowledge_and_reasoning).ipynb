{
  "nbformat": 4,
  "nbformat_minor": 0,
  "metadata": {
    "colab": {
      "provenance": []
    },
    "kernelspec": {
      "name": "python3",
      "display_name": "Python 3"
    },
    "language_info": {
      "name": "python"
    }
  },
  "cells": [
    {
      "cell_type": "code",
      "source": [
        "grandParentArray = ['john', 'megan']\n",
        "parentArray1 = ['william', 'emma']\n",
        "parentArray2 = ['david', 'olivia']\n",
        "parentArray3 = ['adam', 'lily']\n",
        "childrenArray1 = ['chris', 'stephanie']\n",
        "childrenArray2 = ['wayne', 'tiffany', 'julie', 'neil', 'peter']\n",
        "childrenArray3 = ['sophia']\n",
        "\n",
        "\n",
        "\n",
        "def findRelation(name1, name2):\n",
        "\n",
        "    if name1 in grandParentArray:\n",
        "        if name2 in grandParentArray:\n",
        "            print(name1, name2, \"are spouses\")\n",
        "        elif name2 in parentArray1 or name2 in parentArray2 or name2 in parentArray3:\n",
        "            print(name1, name2, \"are parent and child\")\n",
        "        else:\n",
        "            print(name1, name2, \"are grandparent and grandchild\")\n",
        "\n",
        "    elif name1 in parentArray1:\n",
        "        if name2 in grandParentArray:\n",
        "            print(name1, name2, \"are child and parent\")\n",
        "        elif name2 in parentArray1:\n",
        "            print(name1, name2, \"are spouses\")\n",
        "        elif name2 in parentArray2 or name2 in parentArray3:\n",
        "            print(name1, name2, \"are siblings\")\n",
        "        elif name2 in childrenArray1:\n",
        "            print(name1, name2, \"are parent and child\")\n",
        "        else:\n",
        "            print(name1, name2, \"are uncle/nephew and niece/nephew\")\n",
        "\n",
        "    elif name1 in parentArray2:\n",
        "        if name2 in grandParentArray:\n",
        "            print(name1, name2, \"are child and parent\")\n",
        "        elif name2 in parentArray2:\n",
        "            print(name1, name2, \"are spouses\")\n",
        "        elif name2 in parentArray1 or name2 in parentArray3:\n",
        "            print(name1, name2, \"are siblings\")\n",
        "        elif name2 in childrenArray2:\n",
        "            print(name1, name2, \"are parent and child\")\n",
        "        else:\n",
        "            print(name1, name2, \"are uncle/nephew and niece/nephew\")\n",
        "\n",
        "    elif name1 in parentArray3:\n",
        "        if name2 in grandParentArray:\n",
        "            print(name1, name2, \"are child and parent\")\n",
        "        elif name2 in parentArray3:\n",
        "            print(name1, name2, \"are spouses\")\n",
        "        elif name2 in parentArray1 or name2 in parentArray2:\n",
        "            print(name1, name2, \"are siblings\")\n",
        "        elif name2 in childrenArray3:\n",
        "            print(name1, name2, \"are parent and child\")\n",
        "        else:\n",
        "            print(name1, name2, \"are uncle/nephew and niece/nephew\")\n",
        "\n",
        "    elif name1 in childrenArray1:\n",
        "        if name2 in grandParentArray:\n",
        "            print(name1, name2, \"are grandchild and grandparent\")\n",
        "        elif name2 in parentArray1:\n",
        "            print(name1, name2, \"are child and parent\")\n",
        "        elif name2 in parentArray2 or name2 in parentArray3:\n",
        "            print(name1, name2, \"are niece/nephew and uncle/aunt\")\n",
        "        elif name2 in childrenArray1:\n",
        "            print(name1, name2, \"are siblings\")\n",
        "        else:\n",
        "            print(name1, name2, \"are cousins\")\n",
        "\n",
        "    elif name1 in childrenArray2:\n",
        "        if name2 in grandParentArray:\n",
        "            print(name1, name2, \"are grandchild and grandparent\")\n",
        "        elif name2 in parentArray2:\n",
        "            print(name1, name2, \"are child and parent\")\n",
        "        elif name2 in parentArray1 or name2 in parentArray3:\n",
        "            print(name1, name2, \"are niece/nephew and uncle/aunt\")\n",
        "        elif name2 in childrenArray2:\n",
        "            print(name1, name2, \"are siblings\")\n",
        "        else:\n",
        "            print(name1, name2, \"are cousins\")\n",
        "\n",
        "    elif name1 in childrenArray3:\n",
        "        if name2 in grandParentArray:\n",
        "            print(name1, name2, \"are grandchild and grandparent\")\n",
        "        elif name2 in parentArray3:\n",
        "            print(name1, name2, \"are child and parent\")\n",
        "        elif name2 in parentArray1 or name2 in parentArray2:\n",
        "            print(name1, name2, \"are niece/nephew and uncle/aunt\")\n",
        "        elif name2 in childrenArray3:\n",
        "            print(name1, name2, \"are siblings\")\n",
        "        else:\n",
        "            print(name1, name2, \"are cousins\")\n",
        "\n",
        "\n",
        "useName1 = str(input(\"Enter first name: \"))\n",
        "useName2 = str(input(\"Enter second name: \"))\n",
        "\n",
        "findRelation(useName1, useName2)"
      ],
      "metadata": {
        "colab": {
          "base_uri": "https://localhost:8080/"
        },
        "id": "zxJvMy9Qinw9",
        "outputId": "d4dd6ece-5026-4518-db0f-39900297e38c"
      },
      "execution_count": null,
      "outputs": [
        {
          "output_type": "stream",
          "name": "stdout",
          "text": [
            "Enter first name: john\n",
            "Enter second name: sophia\n",
            "john sophia are grandparent and grandchild\n"
          ]
        }
      ]
    }
  ]
}