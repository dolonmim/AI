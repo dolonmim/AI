{
  "nbformat": 4,
  "nbformat_minor": 0,
  "metadata": {
    "colab": {
      "provenance": []
    },
    "kernelspec": {
      "name": "python3",
      "display_name": "Python 3"
    },
    "language_info": {
      "name": "python"
    }
  },
  "cells": [
    {
      "cell_type": "code",
      "execution_count": null,
      "metadata": {
        "colab": {
          "base_uri": "https://localhost:8080/"
        },
        "id": "rckCCrbv0znK",
        "outputId": "c3228cd5-ee1e-4094-c5d9-b1fe71fb20e5"
      },
      "outputs": [
        {
          "output_type": "stream",
          "name": "stdout",
          "text": [
            "{'wa': 'Red', 'nt': 'Blue', 'sa': 'Green', 'q': 'Red', 'nsw': 'Blue', 'v': 'Red'}\n"
          ]
        }
      ],
      "source": [
        "colors = ['Red', 'Blue', 'Green']\n",
        "\n",
        "\n",
        "\n",
        "states = ['wa', 'nt', 'sa', 'q', 'nsw', 'v']\n",
        "\n",
        "\n",
        "\n",
        "neighbors = {}\n",
        "\n",
        "neighbors['wa'] = ['nt', 'sa']\n",
        "\n",
        "neighbors['nt'] = ['wa', 'sa', 'q']\n",
        "\n",
        "neighbors['sa'] = ['wa', 'nt', 'q', 'nsw', 'v']\n",
        "\n",
        "neighbors['q'] = ['nt', 'sa', 'snw']\n",
        "\n",
        "neighbors['nsw'] = ['q', 'sa', 'v']\n",
        "\n",
        "neighbors['v'] = ['sa', 'nsw']\n",
        "\n",
        "\n",
        "\n",
        "\n",
        "colors_of_states = {}\n",
        "\n",
        "\n",
        "\n",
        "def promising(state, color):\n",
        "\n",
        "    for neighbor in neighbors.get(state):\n",
        "\n",
        "        color_of_neighbor = colors_of_states.get(neighbor)\n",
        "\n",
        "        if color_of_neighbor == color:\n",
        "\n",
        "            return False\n",
        "\n",
        "\n",
        "\n",
        "    return True\n",
        "\n",
        "\n",
        "\n",
        "def get_color_for_state(state):\n",
        "\n",
        "    for color in colors:\n",
        "\n",
        "        if promising(state, color):\n",
        "\n",
        "            return color\n",
        "\n",
        "\n",
        "\n",
        "def main():\n",
        "\n",
        "    for state in states:\n",
        "\n",
        "        colors_of_states[state] = get_color_for_state(state)\n",
        "\n",
        "\n",
        "\n",
        "    print(colors_of_states)\n",
        "\n",
        "\n",
        "\n",
        "\n",
        "main()\n"
      ]
    }
  ]
}