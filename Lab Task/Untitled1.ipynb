{
  "nbformat": 4,
  "nbformat_minor": 0,
  "metadata": {
    "colab": {
      "provenance": []
    },
    "kernelspec": {
      "name": "python3",
      "display_name": "Python 3"
    },
    "language_info": {
      "name": "python"
    }
  },
  "cells": [
    {
      "cell_type": "code",
      "execution_count": null,
      "metadata": {
        "colab": {
          "base_uri": "https://localhost:8080/"
        },
        "id": "K8jxnRW5nlS0",
        "outputId": "4af29662-16fb-4481-a24f-c3d97a5ed91d"
      },
      "outputs": [
        {
          "output_type": "stream",
          "name": "stdout",
          "text": [
            "enter a stringgh\n",
            "gh\n",
            "enter a characterhfjfd\n",
            "hfjfd\n"
          ]
        }
      ],
      "source": [
        "x=str(input(\"enter a string\"))\n",
        "print(x)\n",
        "y=(input(\"enter a character\"))\n",
        "print(y)"
      ]
    },
    {
      "cell_type": "code",
      "source": [
        "#vacume cleaner\n",
        "\n",
        "sum = 0\n",
        "n = int(input(\"Enter a value: \"))\n",
        "for k in range(1, n+1):\n",
        "  sum += 1/k\n",
        "  if(k == n):\n",
        "    print(\"1/\"+str(k))\n",
        "    break\n",
        "  print(\"1/\"+str(k), end=\" + \")\n",
        "\n",
        "print()\n",
        "print(sum)\n",
        "\n",
        "#gcd with lib\n",
        "import math as m\n",
        "\n",
        "k =m.gcd(10, 20)\n",
        "print(k)\n",
        "\n",
        "# define the gcd value\n",
        "from functools import reduce\n",
        "from math import *\n",
        "\n",
        "n = int(input(\"Enter the number: \"))\n",
        "v = []\n",
        "for i in range(n):\n",
        "  x = int(input(\"Enter the number \"+str(i+1)+\": \"))\n",
        "  v.append(x)\n",
        "g = reduce(gcd, v)\n",
        "\n",
        "print(g)\n",
        "\n",
        "import random\n",
        "\n",
        "class Agent:\n",
        "    def __init__(self):\n",
        "        def program(percept):abstract\n",
        "        self.program=program\n",
        "\n",
        "loc_A,loc_B,loc_C,loc_D='A','B','C','D'\n",
        "\n",
        "\n",
        "class reflexVaccumAgent(Agent):\n",
        "    def __init__(self):\n",
        "        Agent.__init__(self)\n",
        "\n",
        "        action=' '\n",
        "\n",
        "        def program(percept):\n",
        "            location=percept[0]\n",
        "            status=percept[1]\n",
        "            if status=='Dirty': action= 'Suck'\n",
        "            elif location==loc_A: action= 'Right'\n",
        "            elif location==loc_B: action= 'Down'\n",
        "            elif location==loc_C: action= 'Left'\n",
        "            elif location==loc_D: action= 'Up'\n",
        "\n",
        "\n",
        "            percept=(location,status)\n",
        "            print('Agent perceives %s and does %s' %(percept,action))\n",
        "            return action\n",
        "\n",
        "        self.program=program\n",
        "\n",
        "\n",
        "class vaccumEnvironment():\n",
        "\n",
        "    def __init__(self):\n",
        "        self.status={ loc_A:random.choice(['Clean','Dirty']),\n",
        "                      loc_B:random.choice(['Clean','Dirty']),\n",
        "                      loc_C:random.choice(['Clean','Dirty']),\n",
        "                      loc_D:random.choice(['Clean','Dirty'])\n",
        "\n",
        "                      }\n",
        "    def add_object(self,object,location=None):\n",
        "        object.location=location or self.default_location(object)\n",
        "\n",
        "    def default_location(self,object):\n",
        "        return random.choice([loc_A,loc_B,loc_C,loc_D])\n",
        "\n",
        "    def percept(self,agent):\n",
        "        return (agent.location,self.status[agent.location])\n",
        "\n",
        "    def execute_action(self,agent,action):\n",
        "        if action=='Right': agent.location=loc_B\n",
        "        elif action=='Down': agent.location=loc_C\n",
        "        elif action=='Left': agent.location=loc_D\n",
        "        elif action=='Up': agent.location=loc_D\n",
        "        elif action=='Suck':\n",
        "            #if self.status[agent.location]=='Dirty'\n",
        "            self.status[agent.location]='Clean'\n",
        "\n",
        "\n",
        "Ragent=reflexVaccumAgent()\n",
        "env=vaccumEnvironment()\n",
        "env.add_object(Ragent)\n",
        "\n",
        "\n",
        "for steps in range(5):\n",
        "    print(env.percept(Ragent))\n",
        "    action=Ragent.program(env.percept(Ragent))\n",
        "    env.execute_action(Ragent,action)\n",
        "\n",
        "class NumPyramid:\n",
        "  def __init__(self, n):\n",
        "    self.n = n\n",
        "  def PrintMyNum(self):\n",
        "    print('number: ', self.n)\n",
        "\n",
        "k = NumPyramid(10)\n",
        "k.PrintMyNum()\n"
      ],
      "metadata": {
        "colab": {
          "base_uri": "https://localhost:8080/"
        },
        "id": "w-Lk6boFoI8y",
        "outputId": "731f6a93-28a7-4943-c3a2-6aa6584a07a7"
      },
      "execution_count": null,
      "outputs": [
        {
          "output_type": "stream",
          "name": "stdout",
          "text": [
            "Enter a value: 1\n",
            "1/1\n",
            "\n",
            "1.0\n",
            "10\n",
            "Enter the number: 2\n",
            "Enter the number 1: 5\n",
            "Enter the number 2: 8\n",
            "1\n",
            "('A', 'Dirty')\n",
            "Agent perceives ('A', 'Dirty') and does Suck\n",
            "('A', 'Clean')\n",
            "Agent perceives ('A', 'Clean') and does Right\n",
            "('B', 'Clean')\n",
            "Agent perceives ('B', 'Clean') and does Down\n",
            "('C', 'Dirty')\n",
            "Agent perceives ('C', 'Dirty') and does Suck\n",
            "('C', 'Clean')\n",
            "Agent perceives ('C', 'Clean') and does Left\n",
            "number:  10\n"
          ]
        }
      ]
    }
  ]
}