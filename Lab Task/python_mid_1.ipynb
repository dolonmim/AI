{
  "nbformat": 4,
  "nbformat_minor": 0,
  "metadata": {
    "colab": {
      "provenance": []
    },
    "kernelspec": {
      "name": "python3",
      "display_name": "Python 3"
    },
    "language_info": {
      "name": "python"
    }
  },
  "cells": [
    {
      "cell_type": "code",
      "execution_count": null,
      "metadata": {
        "id": "Wj4EY3eDjS3O"
      },
      "outputs": [],
      "source": [
        "def linear_search(y, key):\n",
        "    for i in range(len(y)):\n",
        "        if y[i] == key:\n",
        "            return i\n",
        "    return -1\n",
        "\n",
        "y = input('Enter the numbers: ')\n",
        "y = y.split()\n",
        "y = [int(x) for x in y]\n",
        "key = int(input('Enter the number search for: '))\n",
        "\n",
        "index = linear_search(y, key)\n",
        "if index < 0:\n",
        "    print('{} was not found.'.format(key))\n",
        "else:\n",
        "    print('{} was found at index {}.'.format(key, index))"
      ]
    },
    {
      "cell_type": "code",
      "source": [
        "nums = []\n",
        "print(\"Enter 3 Numbers (in ascending order):\")\n",
        "for i in range(3):\n",
        "    nums.insert(i, int(input()))\n",
        "print(\"Enter a Number to Search:\")\n",
        "search = int(input())\n",
        "first = 0\n",
        "last = 2\n",
        "middle = (first+last)/2\n",
        "middle = int(middle)\n",
        "while first <= last:\n",
        "    if nums[middle]<search:\n",
        "        first = middle+1\n",
        "    elif nums[middle]==search:\n",
        "        print(\"The Number Found at Position:\")\n",
        "        print(middle+1)\n",
        "        break\n",
        "    else:\n",
        "        last = middle-1\n",
        "    middle = (first+last)/2\n",
        "    middle = int(middle)\n",
        "if first>last:\n",
        "    print(\"The Number is not Found in the List\")"
      ],
      "metadata": {
        "colab": {
          "base_uri": "https://localhost:8080/"
        },
        "id": "RQCK_zQCj41E",
        "outputId": "13ac60ce-745c-480f-c6f7-9d8a8a1e2031"
      },
      "execution_count": null,
      "outputs": [
        {
          "output_type": "stream",
          "name": "stdout",
          "text": [
            "Enter 3 Numbers (in ascending order):\n",
            "10\n",
            "20\n",
            "30\n",
            "Enter a Number to Search:\n",
            "30\n",
            "The Number Found at Position:\n",
            "3\n"
          ]
        }
      ]
    }
  ]
}