{
  "cells": [
    {
      "cell_type": "code",
      "execution_count": null,
      "metadata": {
        "colab": {
          "base_uri": "https://localhost:8080/"
        },
        "id": "ggzLileJQD5r",
        "outputId": "d15cd8d6-5b3b-4e42-dc62-e739f9bce50c"
      },
      "outputs": [
        {
          "name": "stdout",
          "output_type": "stream",
          "text": [
            "Writing text.txt\n"
          ]
        }
      ],
      "source": [
        "%%writefile text.txt\n",
        "this is my text file"
      ]
    },
    {
      "cell_type": "code",
      "execution_count": null,
      "metadata": {
        "colab": {
          "base_uri": "https://localhost:8080/",
          "height": 35
        },
        "id": "oj2Yv8j2SrQO",
        "outputId": "24aa8cab-dbc4-4ad4-b3b4-6f6ea5d058ea"
      },
      "outputs": [
        {
          "data": {
            "application/vnd.google.colaboratory.intrinsic+json": {
              "type": "string"
            },
            "text/plain": [
              "'this is my text file\\n'"
            ]
          },
          "execution_count": 5,
          "metadata": {},
          "output_type": "execute_result"
        }
      ],
      "source": [
        "my_file=open('text.txt')\n",
        "my_file.read()"
      ]
    },
    {
      "cell_type": "code",
      "execution_count": null,
      "metadata": {
        "colab": {
          "base_uri": "https://localhost:8080/"
        },
        "id": "9Fcxh25CVezw",
        "outputId": "e86330aa-8571-4760-8499-8d9ec7e496ef"
      },
      "outputs": [
        {
          "name": "stdout",
          "output_type": "stream",
          "text": [
            "Overwriting text.txt\n"
          ]
        }
      ],
      "source": [
        "%%writefile text.txt\n",
        "this is my text file\n",
        "\n",
        "my_file=open('text.txt')\n",
        "my_file.read()\n",
        "\n",
        "my_file.count('the')\n",
        "\n",
        "\n"
      ]
    },
    {
      "cell_type": "code",
      "execution_count": null,
      "metadata": {
        "colab": {
          "base_uri": "https://localhost:8080/"
        },
        "id": "NRNkLZzWWWnh",
        "outputId": "fb6fb67c-4d0f-4384-ff77-5b784831c724"
      },
      "outputs": [
        {
          "name": "stdout",
          "output_type": "stream",
          "text": [
            "Enter the Name of File: \n",
            "text.txt\n",
            "\n",
            "Total articles are:\n",
            "1\n"
          ]
        }
      ],
      "source": [
        "print(\"Enter the Name of File: \")\n",
        "fileName = str(input())\n",
        "fileHandle = open(fileName, \"r\")\n",
        "tot = 0\n",
        "article = ['a', 'an', 'the']\n",
        "\n",
        "for char in fileHandle.read():\n",
        "  if char in article:\n",
        "    tot = tot+1\n",
        "fileHandle.close()\n",
        "\n",
        "print(\"\\nTotal articles are:\")\n",
        "print(tot)"
      ]
    },
    {
      "cell_type": "code",
      "execution_count": null,
      "metadata": {
        "colab": {
          "background_save": true,
          "base_uri": "https://localhost:8080/"
        },
        "id": "o9euC5LMekeK",
        "outputId": "66bb3267-326c-41db-db16-7d70c857a84b"
      },
      "outputs": [
        {
          "name": "stdout",
          "output_type": "stream",
          "text": [
            "Enter the Name of File: "
          ]
        }
      ],
      "source": [
        "print(end=\"Enter the Name of File: \")\n",
        "fileName = str(input())\n",
        "\n",
        "print(end=\"Enter your text: \")\n",
        "fileName = str(input())\n",
        "\n",
        "try:\n",
        "  fileHandle = open(fileName, \"r\")\n",
        "  tot = 0\n",
        "\n",
        "  for char in fileHandle.read():\n",
        "    if char:\n",
        "      tot = tot+1\n",
        "  fileHandle.close()\n",
        "\n",
        "  if tot>1:\n",
        "    print(\"\\nThere are \" + str(tot) + \" Characters available in the File\")\n",
        "  elif tot==1:\n",
        "    print(\"\\nThere is only 1 Character available in the File\")\n",
        "  else:\n",
        "    print(\"\\nThe File is empty!\")\n",
        "except IOError:\n",
        "  print(\"\\nError Occurred!\")\n",
        "\n",
        "\n"
      ]
    },
    {
      "cell_type": "code",
      "execution_count": null,
      "metadata": {
        "id": "wNwfHV6gnP4Y"
      },
      "outputs": [],
      "source": [
        "def input_user_data(filename):\n",
        ""
      ]
    }
  ],
  "metadata": {
    "colab": {
      "provenance": []
    },
    "kernelspec": {
      "display_name": "Python 3",
      "name": "python3"
    },
    "language_info": {
      "name": "python"
    }
  },
  "nbformat": 4,
  "nbformat_minor": 0
}