{
  "nbformat": 4,
  "nbformat_minor": 0,
  "metadata": {
    "colab": {
      "provenance": []
    },
    "kernelspec": {
      "name": "python3",
      "display_name": "Python 3"
    },
    "language_info": {
      "name": "python"
    }
  },
  "cells": [
    {
      "cell_type": "code",
      "execution_count": null,
      "metadata": {
        "id": "9kSVNyom-mnJ",
        "colab": {
          "base_uri": "https://localhost:8080/"
        },
        "outputId": "b05f2140-412d-4381-ec3f-9a50a8be487e"
      },
      "outputs": [
        {
          "output_type": "stream",
          "name": "stdout",
          "text": [
            "A* Search: \n",
            "S-> B-> F-> G\n"
          ]
        }
      ],
      "source": [
        "graph={\n",
        "    \"S\":{\"A\":3,\"B\":2},\n",
        "    \"A\":{\"C\":4,\"D\":1},\n",
        "    \"B\":{\"E\":3,\"F\":1},\n",
        "    \"E\":{\"H\":5},\n",
        "    \"F\":{\"I\":2,\"G\":3}\n",
        "}\n",
        "hb={\n",
        "    \"A\":12,\n",
        "    \"B\":4,\n",
        "    \"C\":7,\n",
        "    \"D\":3,\n",
        "    \"E\":8,\n",
        "    \"F\":3,\n",
        "    \"G\":8,\n",
        "    \"H\":3,\n",
        "    \"I\":8,\n",
        "    \"S\":3,\n",
        "    \"G\":8\n",
        "}\n",
        "\n",
        "visited=[]    #list for visited nodes\n",
        "queue=[]      #initalize a queue\n",
        "\n",
        "def Astar(graph,node,destination): #using BFS\n",
        "  hmin=5000;\n",
        "  next=\"\"\n",
        "  print(node,end=\"-> \")\n",
        "  for neighbour in graph[node]:\n",
        "    s1=str(node)\n",
        "    s2=str(neighbour)\n",
        "    n=graph[node]\n",
        "    h=hb[s2]+n[s2]\n",
        "\n",
        "    #print s2\n",
        "    if s2==destination:\n",
        "      print(s2)\n",
        "      return\n",
        "    if h<hmin:\n",
        "      hmin=h\n",
        "      next=s2\n",
        "  #print(next, end=\"-> \")\n",
        "  Astar(graph, next, destination)\n",
        "\n",
        "# Driver code\n",
        "print(\"A* Search: \")\n",
        "Astar(graph, \"S\",\"G\")\n",
        "\n",
        "\n",
        "\n"
      ]
    },
    {
      "cell_type": "code",
      "source": [
        "#queen\n",
        "\n",
        "#Number of queens\n",
        "print (\"Enter the number of queens\")\n",
        "N = int(input())\n",
        "\n",
        "\n",
        "board = [[0]*N for _ in range(N)]\n",
        "\n",
        "def is_attack(i, j):\n",
        "    #checking if there is a queen in row or column\n",
        "    for k in range(0,N):\n",
        "        if board[i][k]==1 or board[k][j]==1:\n",
        "            return True\n",
        "    #checking diagonals\n",
        "    for k in range(0,N):\n",
        "        for l in range(0,N):\n",
        "            if (k+l==i+j) or (k-l==i-j):\n",
        "                if board[k][l]==1:\n",
        "                    return True\n",
        "    return False\n",
        "\n",
        "def N_queen(n):\n",
        "\n",
        "    if n==0:\n",
        "        return True\n",
        "    for i in range(0,N):\n",
        "        for j in range(0,N):\n",
        "            if (not(is_attack(i,j))) and (board[i][j]!=1):\n",
        "                board[i][j] = 1\n",
        "\n",
        "                if N_queen(n-1)==True:\n",
        "                    return True\n",
        "                board[i][j] = 0\n",
        "\n",
        "    return False\n",
        "\n",
        "N_queen(N)\n",
        "for i in board:\n",
        "    print (i)"
      ],
      "metadata": {
        "id": "slLIHssv_BiY",
        "colab": {
          "base_uri": "https://localhost:8080/"
        },
        "outputId": "99d3ff47-21bd-4f1e-e7d6-fdcad39d3d65"
      },
      "execution_count": null,
      "outputs": [
        {
          "output_type": "stream",
          "name": "stdout",
          "text": [
            "Enter the number of queens\n",
            "4\n",
            "[0, 1, 0, 0]\n",
            "[0, 0, 0, 1]\n",
            "[1, 0, 0, 0]\n",
            "[0, 0, 1, 0]\n"
          ]
        }
      ]
    }
  ]
}