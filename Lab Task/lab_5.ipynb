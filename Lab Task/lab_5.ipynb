{
  "nbformat": 4,
  "nbformat_minor": 0,
  "metadata": {
    "colab": {
      "provenance": []
    },
    "kernelspec": {
      "name": "python3",
      "display_name": "Python 3"
    },
    "language_info": {
      "name": "python"
    }
  },
  "cells": [
    {
      "cell_type": "code",
      "execution_count": null,
      "metadata": {
        "colab": {
          "base_uri": "https://localhost:8080/"
        },
        "id": "UPFy1WezsqjR",
        "outputId": "a5f235d7-ee9f-4abd-e6c0-7eda0fabb76c"
      },
      "outputs": [
        {
          "output_type": "stream",
          "name": "stdout",
          "text": [
            "Following is the Breadth First Search\n",
            "5 3 7 2 4 8 "
          ]
        }
      ],
      "source": [
        "graph={\n",
        "    '5':['3','7'],\n",
        "    '3':['2','4'],\n",
        "    '7':['8'],\n",
        "    '2':[],\n",
        "    '4':['8'],\n",
        "    '8':[],\n",
        "\n",
        "\n",
        "}\n",
        "\n",
        "visited=[]  #List for visited nodes\n",
        "queue=[]    #initialize a queue\n",
        "\n",
        "def bfs(visited,graph,node):  #function for BFS\n",
        "  visited.append(node)\n",
        "  queue.append(node)\n",
        "\n",
        "  while queue:  #creating loop for visit each node\n",
        "    m=queue.pop(0)\n",
        "    print(m,end=\" \")\n",
        "\n",
        "    for neighbour in graph[m]:\n",
        "     if neighbour not in visited:\n",
        "      visited.append(neighbour)\n",
        "      queue.append(neighbour)\n",
        "\n",
        "#driver code\n",
        "print(\"Following is the Breadth First Search\")\n",
        "bfs(visited,graph,'5')   #function calling"
      ]
    },
    {
      "cell_type": "code",
      "source": [
        "graph={\n",
        "\n",
        "    'Arad':['Timisoara','Zerind','Sibiu'],\n",
        "    'Timisoara':['Arad','Lujog'],\n",
        "    'Zerind':['Arad','Oradea'],\n",
        "    'Sibiu':['Arad','Riminicu Vilcea','Fagaras','Oradea'],\n",
        "    'Oradea':['Zerind','Sibiu'],\n",
        "    'Timisoara':['Lujog'],\n",
        "    'Riminicu Vilcea':['Sibiu','Craivoa','Pitesti'],\n",
        "    'Fagaras':['Sibiu','Bucharest'],\n",
        "    'Lujog':['Mehadia'],\n",
        "    'Craivoa':['Drobeta','Riminicu Vilcea','Pitesti'],\n",
        "    'Pitesti':['Riminicu Vilcea','Craivoa','Bucharest'],\n",
        "    'Bucharest':['Pitesti','Fagaras','Giurgiu','Urzieni'],\n",
        "    'Mehadia':['Lujog','Drobeta'],\n",
        "    'Drobeta':['Mehadia','Craivoa'],\n",
        "    'Giurgiu':['Bucharest'],\n",
        "    'Urzieni':['Bucharest','Vaslui','Hirsova'],\n",
        "    'Vaslui':['Urzieni','Iasi'],\n",
        "    'Hirsova':['Urzieni','Eforie'],\n",
        "    'Iasi':['Neamt','Vaslui'],\n",
        "    'Eforie':['Hirsova'],\n",
        "    'Neamt':['Iasi'],\n",
        "}\n",
        "\n",
        "visited=[]  #List for visited nodes\n",
        "queue=[]    #initialize a queue\n",
        "\n",
        "def bfs(visited,graph,node):  #function for BFS\n",
        "  visited.append(node)\n",
        "  queue.append(node)\n",
        "\n",
        "  while queue:  #creating loop for visit each node\n",
        "    m=queue.pop(0)\n",
        "    print(m,end=\" \")\n",
        "\n",
        "    for neighbour in graph[m]:\n",
        "     if neighbour not in visited:\n",
        "      visited.append(neighbour)\n",
        "      queue.append(neighbour)\n",
        "\n",
        "#driver code\n",
        "print(\"Following is the Breadth First Search\")\n",
        "bfs(visited,graph,'Arad')   #function calling"
      ],
      "metadata": {
        "colab": {
          "base_uri": "https://localhost:8080/"
        },
        "id": "0PpXwWIuzSxE",
        "outputId": "fb3431d2-580b-48c3-c5db-6212eb6247a1"
      },
      "execution_count": null,
      "outputs": [
        {
          "output_type": "stream",
          "name": "stdout",
          "text": [
            "Following is the Breadth First Search\n",
            "Arad Timisoara Zerind Sibiu Lujog Oradea Riminicu Vilcea Fagaras Mehadia Craivoa Pitesti Bucharest Drobeta Giurgiu Urzieni Vaslui Hirsova Iasi Eforie Neamt "
          ]
        }
      ]
    },
    {
      "cell_type": "code",
      "source": [
        "graph={\n",
        "\n",
        "    'Arad':['Timisoara','Zerind','Sibiu'],\n",
        "    'Timisoara':['Arad','Lujog'],\n",
        "    'Zerind':['Arad','Oradea'],\n",
        "    'Sibiu':['Arad','Riminicu Vilcea','Fagaras','Oradea'],\n",
        "    'Oradea':['Zerind','Sibiu'],\n",
        "    'Timisoara':['Lujog'],\n",
        "    'Riminicu Vilcea':['Sibiu','Craivoa','Pitesti'],\n",
        "    'Fagaras':['Sibiu','Bucharest'],\n",
        "    'Lujog':['Mehadia'],\n",
        "    'Craivoa':['Drobeta','Riminicu Vilcea','Pitesti'],\n",
        "    'Pitesti':['Riminicu Vilcea','Craivoa','Bucharest'],\n",
        "    'Bucharest':['Pitesti','Fagaras','Giurgiu','Urzieni'],\n",
        "    'Mehadia':['Lujog','Drobeta'],\n",
        "    'Drobeta':['Mehadia','Craivoa'],\n",
        "    'Giurgiu':['Bucharest'],\n",
        "    'Urzieni':['Bucharest','Vaslui','Hirsova'],\n",
        "    'Vaslui':['Urzieni','Iasi'],\n",
        "    'Hirsova':['Urzieni','Eforie'],\n",
        "    'Iasi':['Neamt','Vaslui'],\n",
        "    'Eforie':['Hirsova'],\n",
        "    'Neamt':['Iasi'],\n",
        "\n",
        "}\n",
        "\n",
        "visited = set() # Set to keep track of visited nodes of graph.\n",
        "\n",
        "def dfs(visited, graph, node):  #function for dfs\n",
        "    if node not in visited:\n",
        "        print (node)\n",
        "        visited.add(node)\n",
        "        for neighbour in graph[node]:\n",
        "            dfs(visited, graph, neighbour)\n",
        "\n",
        "# Driver Code\n",
        "print(\"Following is the Depth-First Search\")\n",
        "dfs(visited, graph, 'Arad')\n"
      ],
      "metadata": {
        "colab": {
          "base_uri": "https://localhost:8080/"
        },
        "id": "GNDvf9wNDCED",
        "outputId": "300d0902-ab39-4c02-b257-53c4aff52eaa"
      },
      "execution_count": null,
      "outputs": [
        {
          "output_type": "stream",
          "name": "stdout",
          "text": [
            "Following is the Depth-First Search\n",
            "Arad\n",
            "Timisoara\n",
            "Lujog\n",
            "Mehadia\n",
            "Drobeta\n",
            "Craivoa\n",
            "Riminicu Vilcea\n",
            "Sibiu\n",
            "Fagaras\n",
            "Bucharest\n",
            "Pitesti\n",
            "Giurgiu\n",
            "Urzieni\n",
            "Vaslui\n",
            "Iasi\n",
            "Neamt\n",
            "Hirsova\n",
            "Eforie\n",
            "Oradea\n",
            "Zerind\n"
          ]
        }
      ]
    }
  ]
}