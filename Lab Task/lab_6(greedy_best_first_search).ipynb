{
  "nbformat": 4,
  "nbformat_minor": 0,
  "metadata": {
    "colab": {
      "provenance": []
    },
    "kernelspec": {
      "name": "python3",
      "display_name": "Python 3"
    },
    "language_info": {
      "name": "python"
    }
  },
  "cells": [
    {
      "cell_type": "code",
      "execution_count": null,
      "metadata": {
        "colab": {
          "base_uri": "https://localhost:8080/",
          "height": 358
        },
        "id": "ziHkB5dpDTVN",
        "outputId": "2bf2ac8d-9f8d-47f7-f18b-d13b58784298"
      },
      "outputs": [
        {
          "output_type": "error",
          "ename": "NameError",
          "evalue": "ignored",
          "traceback": [
            "\u001b[0;31m---------------------------------------------------------------------------\u001b[0m",
            "\u001b[0;31mNameError\u001b[0m                                 Traceback (most recent call last)",
            "\u001b[0;32m<ipython-input-1-d668d9698b52>\u001b[0m in \u001b[0;36m<module>\u001b[0;34m()\u001b[0m\n\u001b[1;32m     65\u001b[0m \u001b[0;34m\u001b[0m\u001b[0m\n\u001b[1;32m     66\u001b[0m \u001b[0;34m\u001b[0m\u001b[0m\n\u001b[0;32m---> 67\u001b[0;31m \u001b[0mgbfs\u001b[0m\u001b[0;34m(\u001b[0m\u001b[0;34m'Arad'\u001b[0m\u001b[0;34m,\u001b[0m \u001b[0;34m'Bucharest'\u001b[0m\u001b[0;34m)\u001b[0m \u001b[0;31m# change source only\u001b[0m\u001b[0;34m\u001b[0m\u001b[0;34m\u001b[0m\u001b[0m\n\u001b[0m\u001b[1;32m     68\u001b[0m \u001b[0;34m\u001b[0m\u001b[0m\n\u001b[1;32m     69\u001b[0m \u001b[0;34m(\u001b[0m\u001b[0;36m0\u001b[0m\u001b[0;34m,\u001b[0m \u001b[0;34m'Bucharest'\u001b[0m\u001b[0;34m,\u001b[0m \u001b[0;34m[\u001b[0m\u001b[0;34m'Arad'\u001b[0m\u001b[0;34m,\u001b[0m \u001b[0;34m'Sibiu'\u001b[0m\u001b[0;34m,\u001b[0m \u001b[0;34m'Fagaras'\u001b[0m\u001b[0;34m,\u001b[0m \u001b[0;34m'Bucharest'\u001b[0m\u001b[0;34m]\u001b[0m\u001b[0;34m,\u001b[0m \u001b[0;36m450\u001b[0m\u001b[0;34m)\u001b[0m\u001b[0;34m\u001b[0m\u001b[0;34m\u001b[0m\u001b[0m\n",
            "\u001b[0;32m<ipython-input-1-d668d9698b52>\u001b[0m in \u001b[0;36mgbfs\u001b[0;34m(startingNode, destinationNode)\u001b[0m\n\u001b[1;32m     51\u001b[0m         \u001b[0mexpanded\u001b[0m\u001b[0;34m.\u001b[0m\u001b[0mappend\u001b[0m\u001b[0;34m(\u001b[0m\u001b[0mu\u001b[0m\u001b[0;34m)\u001b[0m\u001b[0;34m\u001b[0m\u001b[0;34m\u001b[0m\u001b[0m\n\u001b[1;32m     52\u001b[0m \u001b[0;34m\u001b[0m\u001b[0m\n\u001b[0;32m---> 53\u001b[0;31m         \u001b[0;32mfor\u001b[0m \u001b[0mv\u001b[0m \u001b[0;32min\u001b[0m \u001b[0mromanian_map\u001b[0m\u001b[0;34m[\u001b[0m\u001b[0mu\u001b[0m\u001b[0;34m]\u001b[0m\u001b[0;34m.\u001b[0m\u001b[0mkeys\u001b[0m\u001b[0;34m(\u001b[0m\u001b[0;34m)\u001b[0m\u001b[0;34m:\u001b[0m\u001b[0;34m\u001b[0m\u001b[0;34m\u001b[0m\u001b[0m\n\u001b[0m\u001b[1;32m     54\u001b[0m \u001b[0;34m\u001b[0m\u001b[0m\n\u001b[1;32m     55\u001b[0m             \u001b[0;32mif\u001b[0m \u001b[0mv\u001b[0m \u001b[0;32mnot\u001b[0m \u001b[0;32min\u001b[0m \u001b[0mexpanded\u001b[0m\u001b[0;34m:\u001b[0m\u001b[0;34m\u001b[0m\u001b[0;34m\u001b[0m\u001b[0m\n",
            "\u001b[0;31mNameError\u001b[0m: name 'romanian_map' is not defined"
          ]
        }
      ],
      "source": [
        "# SLD heuristic for the destination (Bucharest)\n",
        "\n",
        "h = {'Arad': 366,'Zerind':  374,'Oradea': 380,'Sibiu': 253,\n",
        "\n",
        "    'Timisoara': 329,'Lugoj': 244,'Mehadia': 241,'Drobeta': 242,\n",
        "\n",
        "    'Craiova': 160,'Rimnicu': 193,'Fagaras': 176,'Pitesti': 100,\n",
        "\n",
        "    'Bucharest': 0,'Giurgiu': 77,'Urziceni': 80,'Hirsova': 151,\n",
        "\n",
        "    'Eforie': 161,'Vaslui': 199,'Iasi': 226,'Neamt': 234\n",
        "\n",
        "}\n",
        "\n",
        "\n",
        "\n",
        "from queue import PriorityQueue\n",
        "\n",
        "\n",
        "\n",
        "def gbfs(startingNode, destinationNode):\n",
        "\n",
        "    expanded = [] # to store expanded nodes\n",
        "\n",
        "    frontier = PriorityQueue()\n",
        "\n",
        "\n",
        "\n",
        "    snode = (h[startingNode],startingNode,[startingNode],0) # (h, city, path, path cost)\n",
        "\n",
        "    frontier.put(snode)\n",
        "\n",
        "\n",
        "\n",
        "    while not frontier.empty():\n",
        "\n",
        "        unode = frontier.get()\n",
        "\n",
        "        u = unode[1]\n",
        "\n",
        "\n",
        "\n",
        "        if u== destinationNode:#Goal Test\n",
        "\n",
        "            print(unode)\n",
        "\n",
        "            print(expanded)\n",
        "\n",
        "            return unode[2] #path\n",
        "\n",
        "        expanded.append(u)\n",
        "\n",
        "        for v in romanian_map[u].keys():\n",
        "\n",
        "            if v not in expanded:\n",
        "\n",
        "                cost = unode[3] + romanian_map[u][v]\n",
        "\n",
        "                path = unode[2]+[v]\n",
        "\n",
        "                frontier.put((h[v],v,path, cost))\n",
        "\n",
        "    print('Failed')\n",
        "\n",
        "\n",
        "\n",
        "gbfs('Arad', 'Bucharest') # change source only\n",
        "\n",
        "(0, 'Bucharest', ['Arad', 'Sibiu', 'Fagaras', 'Bucharest'], 450)\n",
        "\n",
        "['Arad', 'Sibiu', 'Fagaras']\n",
        "\n",
        "\n",
        "\n",
        "['Arad', 'Sibiu', 'Fagaras', 'Bucharest']"
      ]
    }
  ]
}