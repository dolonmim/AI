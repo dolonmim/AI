{
  "nbformat": 4,
  "nbformat_minor": 0,
  "metadata": {
    "colab": {
      "provenance": []
    },
    "kernelspec": {
      "name": "python3",
      "display_name": "Python 3"
    },
    "language_info": {
      "name": "python"
    }
  },
  "cells": [
    {
      "cell_type": "code",
      "execution_count": null,
      "metadata": {
        "id": "iLyuqxjz7gGl"
      },
      "outputs": [],
      "source": [
        "num = float(input(\"Enter the number \"))\n",
        "F = (num * 9/5) + 32\n",
        "print(' %.2f Celsius is: %0.2f  Fahrenheit'%(num, F))\n"
      ]
    },
    {
      "cell_type": "code",
      "source": [
        "x=input(\"Enter the value of x: \",)\n",
        "y=input (\"Enter the value of y: \",)\n",
        "temp=x\n",
        "x=y\n",
        "y=temp\n",
        "\n",
        "print(x)\n",
        "print(y)\n"
      ],
      "metadata": {
        "id": "KmX4Bt7p7qeD"
      },
      "execution_count": null,
      "outputs": []
    },
    {
      "cell_type": "code",
      "source": [
        "import statistics\n",
        "data=[4,6,8,9,9,10,23,24,27]\n",
        "x=statistics.mean(data)\n",
        "print(\"Mean=\" ,x)\n",
        "\n",
        "y=statistics.median(data)\n",
        "print(\"Median=\" ,y)\n",
        "\n",
        "z=statistics.stdev(data)\n",
        "print(\"Derivation=\" ,z)\n"
      ],
      "metadata": {
        "id": "-4X4r_kx7r2b"
      },
      "execution_count": null,
      "outputs": []
    },
    {
      "cell_type": "code",
      "source": [],
      "metadata": {
        "id": "tlvlQXlY8bzk"
      },
      "execution_count": null,
      "outputs": []
    },
    {
      "cell_type": "code",
      "source": [
        "#sum of natural number\n",
        "num = 5\n",
        "\n",
        "if num < 0:\n",
        "   print(\"Enter a positive number\")\n",
        "else:\n",
        "   sum = 0\n",
        "   while(num > 0):\n",
        "       sum += num\n",
        "       num-=1\n",
        "\n",
        "   print(\"The sum is\", sum)\n"
      ],
      "metadata": {
        "id": "e0t27CQt7wFF"
      },
      "execution_count": null,
      "outputs": []
    },
    {
      "cell_type": "code",
      "source": [
        "year = 2000\n",
        "\n",
        "\n",
        "\n",
        "if (year % 400 == 0) and (year % 100 == 0):\n",
        "    print(\"{0} is a leap year\".format(year))\n",
        "\n",
        "\n",
        "elif (year % 4 ==0) and (year % 100 != 0):\n",
        "    print(\"{0} is a leap year\".format(year))\n",
        "\n",
        "\n",
        "else:\n",
        "    print(\"{0} is not a leap year\".format(year))\n"
      ],
      "metadata": {
        "id": "v2QO4t9m8dfl"
      },
      "execution_count": null,
      "outputs": []
    },
    {
      "cell_type": "code",
      "source": [
        "#dictionary\n",
        "tel={'jack':4098,'sape':4139}\n",
        "tel['guido']=4127\n",
        "print(tel)"
      ],
      "metadata": {
        "id": "8pClMg9HCpnU",
        "colab": {
          "base_uri": "https://localhost:8080/"
        },
        "outputId": "31410d54-635a-4cc6-f1eb-f04c0f3d33fe"
      },
      "execution_count": null,
      "outputs": [
        {
          "output_type": "stream",
          "name": "stdout",
          "text": [
            "{'jack': 4098, 'sape': 4139, 'guido': 4127}\n"
          ]
        }
      ]
    },
    {
      "cell_type": "code",
      "source": [
        "#sorted\n",
        "basket=['apple','orange','apple','pear']\n",
        "for i in sorted(basket):\n",
        "  print(i)"
      ],
      "metadata": {
        "id": "W3Fj8h70FC3k",
        "colab": {
          "base_uri": "https://localhost:8080/"
        },
        "outputId": "91625677-9a1f-492c-bfd5-638e9cdada34"
      },
      "execution_count": null,
      "outputs": [
        {
          "output_type": "stream",
          "name": "stdout",
          "text": [
            "apple\n",
            "apple\n",
            "orange\n",
            "pear\n"
          ]
        }
      ]
    }
  ]
}